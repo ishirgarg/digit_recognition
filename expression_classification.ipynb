{
 "cells": [
  {
   "cell_type": "code",
   "execution_count": 3,
   "metadata": {},
   "outputs": [],
   "source": [
    "import numpy as np\n",
    "import tensorflow as tf\n",
    "import matplotlib.pyplot as plt\n",
    "import pandas as pd\n",
    "from PIL import Image\n",
    "import cv2\n",
    "import os"
   ]
  },
  {
   "cell_type": "code",
   "execution_count": 77,
   "metadata": {},
   "outputs": [
    {
     "name": "stdout",
     "output_type": "stream",
     "text": [
      "Number of training samples: 267109\n",
      "Number of validation samples: 33390\n",
      "Number of test samples: 33396\n"
     ]
    }
   ],
   "source": [
    "NUM_CLASSES = 16\n",
    "\n",
    "def int_to_class(predicted_class):\n",
    "    dict = {\n",
    "        0 : '0',\n",
    "        1 : '1',\n",
    "        2 : '2',\n",
    "        3 : '3',\n",
    "        4 : '4',\n",
    "        5 : '5',\n",
    "        6 : '6',\n",
    "        7 : '7',\n",
    "        8 : '8',\n",
    "        9 : '9',\n",
    "        10 : '+',\n",
    "        11 : '-',\n",
    "        12 : '*',\n",
    "        13 : '/',\n",
    "        14 : '[',\n",
    "        15 : ']'\n",
    "    }\n",
    "    return dict[predicted_class]\n",
    "\n",
    "model_weights_file_output_path = \"./expression_classifier_model.ckpt\"\n",
    "data_input_folder_path = \"./data/numbers_operations_split\"\n",
    "\n",
    "train_data = np.load(os.path.join(data_input_folder_path, \"numbers_operations_train.npy\"))\n",
    "val_data = np.load(os.path.join(data_input_folder_path, \"numbers_operations_val.npy\"))\n",
    "test_data = np.load(os.path.join(data_input_folder_path, \"numbers_operations_test.npy\"))\n",
    "\n",
    "x_train, y_train = np.array([arr[:-1] for arr in train_data]), np.array([arr[-1] for arr in train_data])\n",
    "x_val, y_val = np.array([arr[:-1] for arr in val_data]), np.array([arr[-1] for arr in val_data])\n",
    "x_test, y_test = np.array([arr[:-1] for arr in test_data]), np.array([arr[-1] for arr in test_data])\n",
    "\n",
    "print(\"Number of training samples:\", len(train_data))\n",
    "print(\"Number of validation samples:\", len(val_data))\n",
    "print(\"Number of test samples:\", len(test_data))"
   ]
  },
  {
   "cell_type": "markdown",
   "metadata": {},
   "source": [
    "Convolutional neural network with ReLu activation and Adam optimizer from:\n",
    "\"CNN Model for Image Classification on MNIST and Fashion-MNIST Dataset\" by Kadam, Shivam S. et. al. published in Journal of Scientific Research Volume 64, Issue 2, 2020"
   ]
  },
  {
   "cell_type": "code",
   "execution_count": 36,
   "metadata": {},
   "outputs": [],
   "source": [
    "# Function for creating model\n",
    "def create_model():\n",
    "    model = tf.keras.Sequential([\n",
    "        tf.keras.layers.Reshape((28, 28, 1)),\n",
    "        tf.keras.layers.Rescaling(1./255, input_shape=(28, 28, 1)),\n",
    "\n",
    "        tf.keras.layers.Conv2D(32, (3, 3), input_shape=(28, 28, 1), activation='relu'),\n",
    "        tf.keras.layers.Conv2D(32, (3, 3), activation='relu'),\n",
    "        tf.keras.layers.MaxPool2D(2, 2),\n",
    "        tf.keras.layers.Dropout(rate=0.25),\n",
    "\n",
    "        tf.keras.layers.Conv2D(64, (3, 3), activation='relu'),\n",
    "        tf.keras.layers.Conv2D(64, (3, 3), activation='relu'),\n",
    "        tf.keras.layers.MaxPool2D(2, 2),\n",
    "        tf.keras.layers.Dropout(rate=0.25),\n",
    "\n",
    "        tf.keras.layers.Flatten(),\n",
    "        tf.keras.layers.Dense(512, activation='relu'),\n",
    "        tf.keras.layers.Dropout(0.5),\n",
    "        tf.keras.layers.Dense(NUM_CLASSES),\n",
    "        tf.keras.layers.Softmax()\n",
    "    ])\n",
    "\n",
    "    model.compile(optimizer=tf.keras.optimizers.legacy.Adam(learning_rate=0.00005),\n",
    "                loss=tf.keras.losses.SparseCategoricalCrossentropy(from_logits=False),\n",
    "                metrics=['accuracy'])\n",
    "    \n",
    "    return model\n"
   ]
  },
  {
   "cell_type": "code",
   "execution_count": 38,
   "metadata": {},
   "outputs": [
    {
     "name": "stdout",
     "output_type": "stream",
     "text": [
      "Epoch 1/20\n",
      "7513/7513 [==============================] - 96s 13ms/step - loss: 0.7254 - accuracy: 0.7687 - val_loss: 0.2877 - val_accuracy: 0.9098\n",
      "Epoch 2/20\n",
      "7513/7513 [==============================] - 102s 14ms/step - loss: 0.3316 - accuracy: 0.8938 - val_loss: 0.1813 - val_accuracy: 0.9420\n",
      "Epoch 3/20\n",
      "7513/7513 [==============================] - 101s 13ms/step - loss: 0.2307 - accuracy: 0.9264 - val_loss: 0.1349 - val_accuracy: 0.9559\n",
      "Epoch 4/20\n",
      "7513/7513 [==============================] - 103s 14ms/step - loss: 0.1843 - accuracy: 0.9412 - val_loss: 0.1084 - val_accuracy: 0.9632\n",
      "Epoch 5/20\n",
      "7513/7513 [==============================] - 107s 14ms/step - loss: 0.1562 - accuracy: 0.9496 - val_loss: 0.0974 - val_accuracy: 0.9665\n",
      "Epoch 6/20\n",
      "7513/7513 [==============================] - 104s 14ms/step - loss: 0.1390 - accuracy: 0.9545 - val_loss: 0.0838 - val_accuracy: 0.9708\n",
      "Epoch 7/20\n",
      "7513/7513 [==============================] - 104s 14ms/step - loss: 0.1248 - accuracy: 0.9590 - val_loss: 0.0780 - val_accuracy: 0.9728\n",
      "Epoch 8/20\n",
      "7513/7513 [==============================] - 109s 15ms/step - loss: 0.1149 - accuracy: 0.9620 - val_loss: 0.0712 - val_accuracy: 0.9753\n",
      "Epoch 9/20\n",
      "7513/7513 [==============================] - 109s 15ms/step - loss: 0.1059 - accuracy: 0.9648 - val_loss: 0.0656 - val_accuracy: 0.9766\n",
      "Epoch 10/20\n",
      "7513/7513 [==============================] - 110s 15ms/step - loss: 0.0998 - accuracy: 0.9669 - val_loss: 0.0640 - val_accuracy: 0.9774\n",
      "Epoch 11/20\n",
      "7513/7513 [==============================] - 235s 31ms/step - loss: 0.0939 - accuracy: 0.9686 - val_loss: 0.0591 - val_accuracy: 0.9789\n",
      "Epoch 12/20\n",
      "7513/7513 [==============================] - 110s 15ms/step - loss: 0.0893 - accuracy: 0.9698 - val_loss: 0.0559 - val_accuracy: 0.9800\n",
      "Epoch 13/20\n",
      "7513/7513 [==============================] - 112s 15ms/step - loss: 0.0840 - accuracy: 0.9715 - val_loss: 0.0544 - val_accuracy: 0.9801\n",
      "Epoch 14/20\n",
      "7513/7513 [==============================] - 114s 15ms/step - loss: 0.0806 - accuracy: 0.9727 - val_loss: 0.0546 - val_accuracy: 0.9802\n",
      "Epoch 15/20\n",
      "7513/7513 [==============================] - 110s 15ms/step - loss: 0.0780 - accuracy: 0.9736 - val_loss: 0.0508 - val_accuracy: 0.9814\n",
      "Epoch 16/20\n",
      "7513/7513 [==============================] - 113s 15ms/step - loss: 0.0736 - accuracy: 0.9749 - val_loss: 0.0500 - val_accuracy: 0.9817\n",
      "Epoch 17/20\n",
      "7513/7513 [==============================] - 128s 17ms/step - loss: 0.0719 - accuracy: 0.9754 - val_loss: 0.0481 - val_accuracy: 0.9820\n",
      "Epoch 18/20\n",
      "7513/7513 [==============================] - 113s 15ms/step - loss: 0.0692 - accuracy: 0.9763 - val_loss: 0.0466 - val_accuracy: 0.9827\n",
      "Epoch 19/20\n",
      "7513/7513 [==============================] - 115s 15ms/step - loss: 0.0676 - accuracy: 0.9769 - val_loss: 0.0460 - val_accuracy: 0.9823\n",
      "Epoch 20/20\n",
      "7513/7513 [==============================] - 116s 15ms/step - loss: 0.0657 - accuracy: 0.9773 - val_loss: 0.0440 - val_accuracy: 0.9833\n"
     ]
    },
    {
     "data": {
      "image/png": "[encoded data removed]",
      "text/plain": [
       "<Figure size 640x480 with 1 Axes>"
      ]
     },
     "metadata": {},
     "output_type": "display_data"
    },
    {
     "name": "stdout",
     "output_type": "stream",
     "text": [
      "INFO:tensorflow:Assets written to: ./expression_classifier_model.ckpt/assets\n"
     ]
    },
    {
     "name": "stderr",
     "output_type": "stream",
     "text": [
      "INFO:tensorflow:Assets written to: ./expression_classifier_model.ckpt/assets\n"
     ]
    }
   ],
   "source": [
    "# Train and save model\n",
    "model = create_model()\n",
    "\n",
    "# Train model\n",
    "training_history = model.fit(np.stack(x_train), y_train, validation_split=0.1, epochs=20)\n",
    "\n",
    "# Plot training metrics\n",
    "plt.plot(training_history.history['accuracy'])\n",
    "plt.plot(training_history.history['val_accuracy'])\n",
    "plt.title('Model Accuracy')\n",
    "plt.ylabel('Accuracy')\n",
    "plt.xlabel('Epoch Count')\n",
    "plt.legend(['Training', \"Validation\"], loc='upper left')\n",
    "plt.show()\n",
    "\n",
    "# Save model\n",
    "model.save(model_weights_file_output_path)"
   ]
  },
  {
   "cell_type": "code",
   "execution_count": 53,
   "metadata": {},
   "outputs": [
    {
     "name": "stderr",
     "output_type": "stream",
     "text": [
      "2023-09-21 21:15:45.125952: W tensorflow/core/util/tensor_slice_reader.cc:97] Could not open ./expression_classifier_model.ckpt: FAILED_PRECONDITION: expression_classifier_model.ckpt; Is a directory: perhaps your file is in a different file format and you need to use a different restore operator?\n"
     ]
    },
    {
     "data": {
      "text/plain": [
       "<tensorflow.python.checkpoint.checkpoint.CheckpointLoadStatus at 0x15d2048b0>"
      ]
     },
     "execution_count": 53,
     "metadata": {},
     "output_type": "execute_result"
    }
   ],
   "source": [
    "# Load model\n",
    "model = create_model()\n",
    "model.load_weights(model_weights_file_output_path)"
   ]
  },
  {
   "cell_type": "code",
   "execution_count": 78,
   "metadata": {},
   "outputs": [],
   "source": [
    "def performance_metrics(model, x_data, y_data):\n",
    "    predictions = [np.argmax(arr) for arr in model.predict(np.stack(x_data))]\n",
    "    score = model.evaluate(x_data, y_data, verbose=0)\n",
    "    loss = score[0]\n",
    "    accuracy = score[1]\n",
    "\n",
    "    num_positives = [0] * NUM_CLASSES # Number of times a number appears in y_data\n",
    "    num_true_positives = [0] * NUM_CLASSES # Number of times we correctly predicted each class\n",
    "    num_predictions = [0] * NUM_CLASSES # Number of times we predicted each class\n",
    "    for i in range(len(y_data)):\n",
    "        num_positives[y_data[i]] += 1\n",
    "        num_predictions[predictions[i]] += 1\n",
    "        if (y_data[i] == predictions[i]):\n",
    "            num_true_positives[y_data[i]] += 1\n",
    "    \n",
    "    recall = [num_true_positives[i] / num_positives[i] for i in range(NUM_CLASSES)]\n",
    "    precision = [num_true_positives[i] / num_predictions[i] for i in range(NUM_CLASSES)]\n",
    "    f1_score = [(2 * recall[i] * precision[i]) / (recall[i] + precision[i]) for i in range(NUM_CLASSES)]\n",
    "\n",
    "    NUM_ROUND_DIGITS = 5\n",
    "\n",
    "    return {\"loss\" : round(loss, NUM_ROUND_DIGITS), \n",
    "            \"accuracy\" : round(accuracy, NUM_ROUND_DIGITS), \n",
    "            \"precision\" : [round(x, NUM_ROUND_DIGITS) for x in precision], \n",
    "            \"recall\" : [round(x, NUM_ROUND_DIGITS) for x in recall], \n",
    "            \"f1\" : [round(x, NUM_ROUND_DIGITS) for x in f1_score]}\n",
    "\n",
    "# Display the predictions on x_data and x_data images in N_ROWS by N_COLS grids\n",
    "def display_predictions(model, x_data, N_ROWS, N_COLS):\n",
    "    # Predictions on data set\n",
    "    predictions = [np.argmax(arr) for arr in model.predict(np.stack(x_data))]\n",
    "\n",
    "    # Create subplot for display\n",
    "    fig, ax = plt.subplots(nrows=N_ROWS, ncols=N_COLS, figsize=(3,3))\n",
    "    np.vectorize(lambda axis : axis.axis(\"off\"))(ax) # Turn of axis labels\n",
    "\n",
    "    images = [Image.fromarray(np.reshape(arr.astype('uint8'), (28, 28))) for arr in x_data]\n",
    "\n",
    "    # Display images of data set\n",
    "    img_count = 0\n",
    "    for i in range(N_ROWS):\n",
    "        for j in range(N_COLS):        \n",
    "            if img_count < len(images):\n",
    "                ax[i, j].imshow(images[img_count])\n",
    "                img_count+=1\n",
    "\n",
    "    # Display predictions on data set\n",
    "    value_count = 0\n",
    "    for i in range(N_ROWS):\n",
    "        for j in range(N_COLS):\n",
    "            if value_count < len(predictions):\n",
    "                print(int_to_class(predictions[value_count]), end=' ')\n",
    "                value_count += 1\n",
    "        print('')"
   ]
  },
  {
   "cell_type": "code",
   "execution_count": 79,
   "metadata": {},
   "outputs": [
    {
     "name": "stdout",
     "output_type": "stream",
     "text": [
      "1044/1044 [==============================] - 4s 3ms/step\n",
      "loss 0.04555\n",
      "accuracy 0.98524\n",
      "precision [0.99655, 0.98251, 0.99271, 0.9954, 0.99352, 0.99566, 0.99903, 0.98871, 0.99758, 0.99118, 0.99002, 0.98597, 0.99704, 0.90878, 0.9875, 0.98058]\n",
      "recall [0.99951, 0.93719, 0.99513, 0.9954, 0.9894, 0.9971, 0.99709, 0.97519, 0.99952, 0.98875, 0.98778, 0.98968, 0.99606, 0.98137, 0.97918, 0.95183]\n",
      "f1 [0.99803, 0.95932, 0.99392, 0.9954, 0.99145, 0.99638, 0.99806, 0.9819, 0.99855, 0.98996, 0.9889, 0.98782, 0.99655, 0.94368, 0.98332, 0.96599]\n",
      "1044/1044 [==============================] - 3s 3ms/step\n",
      "/ + - 4 2 5 8 7 9 3 \n",
      "] 8 + 2 4 2 4 6 4 1 \n",
      "5 [ 9 0 + 1 6 3 6 7 \n",
      "+ - 2 2 0 8 6 0 6 3 \n",
      "/ 1 9 + 5 4 6 0 7 9 \n",
      "/ - 2 + 6 2 0 8 7 / \n",
      "3 5 6 6 4 ] * * 1 ] \n",
      "4 4 2 ] + 0 8 ] 2 4 \n",
      "7 9 6 6 7 2 / + 2 5 \n",
      "+ / 8 9 0 0 1 ] 1 3 \n"
     ]
    },
    {
     "data": {
      "image/png": "[encoded data removed]",
      "text/plain": [
       "<Figure size 300x300 with 100 Axes>"
      ]
     },
     "metadata": {},
     "output_type": "display_data"
    }
   ],
   "source": [
    "# Display predictions on validation set (always taken from end of data)\n",
    "validation_metrics = performance_metrics(model, x_val, y_val)\n",
    "for k, v in validation_metrics.items():\n",
    "    print(k, v)\n",
    "display_predictions(model, x_val, 10, 10)"
   ]
  },
  {
   "cell_type": "code",
   "execution_count": 80,
   "metadata": {},
   "outputs": [],
   "source": [
    "# Predicts digit in image from a WHITE background\n",
    "def predict_image(img_path):\n",
    "    img = Image.open(img_path).convert('L')\n",
    "    img = img.resize((28, 28))\n",
    "\n",
    "    # Convert so white 255 becomes black 0\n",
    "    arr = np.array(img)\n",
    "    for i in range(28):\n",
    "        for j in range(28):\n",
    "            arr[i, j] = 255 - arr[i, j]\n",
    "            \n",
    "    return np.argmax(model.predict(np.stack([arr])))\n",
    "\n",
    "def display_image(img_path):\n",
    "    img = Image.open(img_path).convert('L')\n",
    "    img = img.resize((28, 28))\n",
    "\n",
    "    fig, ax = plt.subplots(nrows=1, ncols=1, figsize=(3,3))\n",
    "    np.vectorize(lambda axis : axis.axis(\"off\"))(ax) # Turn of axis labels\n",
    "    ax.imshow(img)"
   ]
  },
  {
   "cell_type": "code",
   "execution_count": 86,
   "metadata": {},
   "outputs": [
    {
     "name": "stdout",
     "output_type": "stream",
     "text": [
      "1/1 [==============================] - 0s 17ms/step\n",
      "13\n"
     ]
    },
    {
     "data": {
      "image/png": "[encoded data removed]",
      "text/plain": [
       "<Figure size 300x300 with 1 Axes>"
      ]
     },
     "metadata": {},
     "output_type": "display_data"
    }
   ],
   "source": [
    "print(predict_image(\"./test_digits/1.png\"))\n",
    "display_image(\"./test_digits/1.png\")"
   ]
  },
  {
   "cell_type": "code",
   "execution_count": null,
   "metadata": {},
   "outputs": [],
   "source": [
    "# Predictions on images with multiple digits\n",
    "\n",
    "image = cv2.imread('./testimg/digits2.png')\n",
    "grey = cv2.cvtColor(image.copy(), cv2.COLOR_BGR2GRAY)\n",
    "ret, thresh = cv2.threshold(grey.copy(), 75, 255, cv2.THRESH_BINARY_INV)\n",
    "contours, _ = cv2.findContours(thresh.copy(), cv2.RETR_EXTERNAL, cv2.CHAIN_APPROX_SIMPLE)\n",
    "\n",
    "preprocessed_digits = []\n",
    "for c in contours:\n",
    "    x,y,w,h = cv2.boundingRect(c)\n",
    "    \n",
    "    # Creating bounding box\n",
    "    cv2.rectangle(image, (x,y), (x+w, y+h), color=(0, 255, 0), thickness=2)\n",
    "    \n",
    "    # Cropping out the digit from the image\n",
    "    digit = thresh[y:y+h, x:x+w]\n",
    "    \n",
    "    # Resize image, but don't disproportionately scale it\n",
    "    resized_width = min(20, int(1.25 * w))\n",
    "    resized_height = min(20, int(1.25 * h))\n",
    "    if resized_width % 2 == 1: resized_width += 1 # Must scale to even number so padding is same on both sides\n",
    "    if resized_height % 2 == 1: resized_height += 1 # Must scale to even number so padding is same on both sides\n",
    "    resized_digit = cv2.resize(digit, (resized_width, resized_height))\n",
    "    \n",
    "\n",
    "    remaining_pad_width = (28 - resized_width) // 2\n",
    "    remaining_pad_height = (28 - resized_height) // 2\n",
    "    padded_digit = np.pad(resized_digit, ((remaining_pad_height, remaining_pad_height),(remaining_pad_width, remaining_pad_width)), \"constant\", constant_values=0)\n",
    "\n",
    "    preprocessed_digits.append(padded_digit)\n",
    "\n",
    "plt.imshow(image, cmap=\"gray\")\n",
    "plt.show()\n",
    "    \n",
    "\n",
    "for digit in preprocessed_digits:\n",
    "    prediction = model.predict(digit.reshape(1, 28, 28, 1))  \n",
    "    \n",
    "    plt.imshow(digit.reshape(28, 28), cmap=\"gray\")\n",
    "    plt.show()\n",
    "    print(\"Predicted digit: {}\".format(np.argmax(prediction)))\n",
    "    print (\"Probabilities from neural net: {}\".format(prediction))"
   ]
  }
 ],
 "metadata": {
  "kernelspec": {
   "display_name": "Python 3",
   "language": "python",
   "name": "python3"
  },
  "language_info": {
   "codemirror_mode": {
    "name": "ipython",
    "version": 3
   },
   "file_extension": ".py",
   "mimetype": "text/x-python",
   "name": "python",
   "nbconvert_exporter": "python",
   "pygments_lexer": "ipython3",
   "version": "3.9.6"
  },
  "orig_nbformat": 4
 },
 "nbformat": 4,
 "nbformat_minor": 2
}
